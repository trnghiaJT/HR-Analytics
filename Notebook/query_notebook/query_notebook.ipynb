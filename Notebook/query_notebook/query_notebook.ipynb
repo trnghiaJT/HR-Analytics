{
    "metadata": {
        "kernelspec": {
            "name": "SQL",
            "display_name": "SQL",
            "language": "sql"
        },
        "language_info": {
            "name": "sql",
            "version": ""
        }
    },
    "nbformat_minor": 2,
    "nbformat": 4,
    "cells": [
        {
            "cell_type": "code",
            "source": [
                "USE hr_db\r\n",
                "GO"
            ],
            "metadata": {
                "azdata_cell_guid": "d5250bcc-359c-4b30-b457-b023dc625c63",
                "language": "sql",
                "tags": [
                    "hide_input"
                ]
            },
            "outputs": [
                {
                    "output_type": "display_data",
                    "data": {
                        "text/html": "Commands completed successfully."
                    },
                    "metadata": {}
                },
                {
                    "output_type": "display_data",
                    "data": {
                        "text/html": "Total execution time: 00:00:00.002"
                    },
                    "metadata": {}
                }
            ],
            "execution_count": 2
        },
        {
            "cell_type": "code",
            "source": [
                "SELECT TOP 10 * FROM Employees;"
            ],
            "metadata": {
                "azdata_cell_guid": "63b7a6a9-5050-4d34-ad41-0b3b76f4049f",
                "language": "sql"
            },
            "outputs": [
                {
                    "output_type": "display_data",
                    "data": {
                        "text/html": "(10 rows affected)"
                    },
                    "metadata": {}
                },
                {
                    "output_type": "display_data",
                    "data": {
                        "text/html": "Total execution time: 00:00:00.046"
                    },
                    "metadata": {}
                },
                {
                    "output_type": "execute_result",
                    "execution_count": 2,
                    "data": {
                        "application/vnd.dataresource+json": {
                            "data": [
                                {
                                    "Age": "18",
                                    "AgeGroup": "18-25",
                                    "Attrition": "1",
                                    "BusinessTravel": "Travel_Rarely",
                                    "DailyRate": "230",
                                    "Department": "Research & Development",
                                    "DistanceFromHome": "3",
                                    "Education": "3",
                                    "EducationField": "Life Sciences",
                                    "EmpID": "297.00",
                                    "EmployeeCount": "1",
                                    "EmployeeNumber": "405",
                                    "EnvironmentSatisfaction": "3",
                                    "Gender": "Male",
                                    "HourlyRate": "54",
                                    "JobInvolvement": "3",
                                    "JobLevel": "1",
                                    "JobRole": "Laboratory Technician",
                                    "JobSatisfaction": "3",
                                    "MaritalStatus": "Single",
                                    "MonthlyIncome": "1420",
                                    "MonthlyRate": "25233",
                                    "NumCompaniesWorked": "1",
                                    "Over18": "Y",
                                    "OverTime": "0",
                                    "PercentSalaryHike": "13",
                                    "PerformanceRating": "3",
                                    "RelationshipSatisfaction": "3",
                                    "SalarySlab": "Upto 5k",
                                    "StandardHours": "80",
                                    "StockOptionLevel": "0",
                                    "TotalWorkingYears": "0",
                                    "TrainingTimesLastYear": "2",
                                    "WorkLifeBalance": "3",
                                    "YearsAtCompany": "0",
                                    "YearsInCurrentRole": "0",
                                    "YearsSinceLastPromotion": "0",
                                    "YearsWithCurrManager": "0"
                                },
                                {
                                    "Age": "18",
                                    "AgeGroup": "18-25",
                                    "Attrition": "0",
                                    "BusinessTravel": "Travel_Rarely",
                                    "DailyRate": "812",
                                    "Department": "Sales",
                                    "DistanceFromHome": "10",
                                    "Education": "3",
                                    "EducationField": "Medical",
                                    "EmpID": "302.00",
                                    "EmployeeCount": "1",
                                    "EmployeeNumber": "411",
                                    "EnvironmentSatisfaction": "4",
                                    "Gender": "Female",
                                    "HourlyRate": "69",
                                    "JobInvolvement": "2",
                                    "JobLevel": "1",
                                    "JobRole": "Sales Representative",
                                    "JobSatisfaction": "3",
                                    "MaritalStatus": "Single",
                                    "MonthlyIncome": "1200",
                                    "MonthlyRate": "9724",
                                    "NumCompaniesWorked": "1",
                                    "Over18": "Y",
                                    "OverTime": "0",
                                    "PercentSalaryHike": "12",
                                    "PerformanceRating": "3",
                                    "RelationshipSatisfaction": "1",
                                    "SalarySlab": "Upto 5k",
                                    "StandardHours": "80",
                                    "StockOptionLevel": "0",
                                    "TotalWorkingYears": "0",
                                    "TrainingTimesLastYear": "2",
                                    "WorkLifeBalance": "3",
                                    "YearsAtCompany": "0",
                                    "YearsInCurrentRole": "0",
                                    "YearsSinceLastPromotion": "0",
                                    "YearsWithCurrManager": "0"
                                },
                                {
                                    "Age": "18",
                                    "AgeGroup": "18-25",
                                    "Attrition": "1",
                                    "BusinessTravel": "Travel_Frequently",
                                    "DailyRate": "1306",
                                    "Department": "Sales",
                                    "DistanceFromHome": "5",
                                    "Education": "3",
                                    "EducationField": "Marketing",
                                    "EmpID": "458.00",
                                    "EmployeeCount": "1",
                                    "EmployeeNumber": "614",
                                    "EnvironmentSatisfaction": "2",
                                    "Gender": "Male",
                                    "HourlyRate": "69",
                                    "JobInvolvement": "3",
                                    "JobLevel": "1",
                                    "JobRole": "Sales Representative",
                                    "JobSatisfaction": "2",
                                    "MaritalStatus": "Single",
                                    "MonthlyIncome": "1878",
                                    "MonthlyRate": "8059",
                                    "NumCompaniesWorked": "1",
                                    "Over18": "Y",
                                    "OverTime": "1",
                                    "PercentSalaryHike": "14",
                                    "PerformanceRating": "3",
                                    "RelationshipSatisfaction": "4",
                                    "SalarySlab": "Upto 5k",
                                    "StandardHours": "80",
                                    "StockOptionLevel": "0",
                                    "TotalWorkingYears": "0",
                                    "TrainingTimesLastYear": "3",
                                    "WorkLifeBalance": "3",
                                    "YearsAtCompany": "0",
                                    "YearsInCurrentRole": "0",
                                    "YearsSinceLastPromotion": "0",
                                    "YearsWithCurrManager": "0"
                                },
                                {
                                    "Age": "18",
                                    "AgeGroup": "18-25",
                                    "Attrition": "0",
                                    "BusinessTravel": "Non-Travel",
                                    "DailyRate": "287",
                                    "Department": "Research & Development",
                                    "DistanceFromHome": "5",
                                    "Education": "2",
                                    "EducationField": "Life Sciences",
                                    "EmpID": "728.00",
                                    "EmployeeCount": "1",
                                    "EmployeeNumber": "1012",
                                    "EnvironmentSatisfaction": "2",
                                    "Gender": "Male",
                                    "HourlyRate": "73",
                                    "JobInvolvement": "3",
                                    "JobLevel": "1",
                                    "JobRole": "Research Scientist",
                                    "JobSatisfaction": "4",
                                    "MaritalStatus": "Single",
                                    "MonthlyIncome": "1051",
                                    "MonthlyRate": "13493",
                                    "NumCompaniesWorked": "1",
                                    "Over18": "Y",
                                    "OverTime": "0",
                                    "PercentSalaryHike": "15",
                                    "PerformanceRating": "3",
                                    "RelationshipSatisfaction": "4",
                                    "SalarySlab": "Upto 5k",
                                    "StandardHours": "80",
                                    "StockOptionLevel": "0",
                                    "TotalWorkingYears": "0",
                                    "TrainingTimesLastYear": "2",
                                    "WorkLifeBalance": "3",
                                    "YearsAtCompany": "0",
                                    "YearsInCurrentRole": "0",
                                    "YearsSinceLastPromotion": "0",
                                    "YearsWithCurrManager": "0"
                                },
                                {
                                    "Age": "18",
                                    "AgeGroup": "18-25",
                                    "Attrition": "1",
                                    "BusinessTravel": "Non-Travel",
                                    "DailyRate": "247",
                                    "Department": "Research & Development",
                                    "DistanceFromHome": "8",
                                    "Education": "1",
                                    "EducationField": "Medical",
                                    "EmpID": "829.00",
                                    "EmployeeCount": "1",
                                    "EmployeeNumber": "1156",
                                    "EnvironmentSatisfaction": "3",
                                    "Gender": "Male",
                                    "HourlyRate": "80",
                                    "JobInvolvement": "3",
                                    "JobLevel": "1",
                                    "JobRole": "Laboratory Technician",
                                    "JobSatisfaction": "3",
                                    "MaritalStatus": "Single",
                                    "MonthlyIncome": "1904",
                                    "MonthlyRate": "13556",
                                    "NumCompaniesWorked": "1",
                                    "Over18": "Y",
                                    "OverTime": "0",
                                    "PercentSalaryHike": "12",
                                    "PerformanceRating": "3",
                                    "RelationshipSatisfaction": "4",
                                    "SalarySlab": "Upto 5k",
                                    "StandardHours": "80",
                                    "StockOptionLevel": "0",
                                    "TotalWorkingYears": "0",
                                    "TrainingTimesLastYear": "0",
                                    "WorkLifeBalance": "3",
                                    "YearsAtCompany": "0",
                                    "YearsInCurrentRole": "0",
                                    "YearsSinceLastPromotion": "0",
                                    "YearsWithCurrManager": "0"
                                },
                                {
                                    "Age": "18",
                                    "AgeGroup": "18-25",
                                    "Attrition": "0",
                                    "BusinessTravel": "Non-Travel",
                                    "DailyRate": "1124",
                                    "Department": "Research & Development",
                                    "DistanceFromHome": "1",
                                    "Education": "3",
                                    "EducationField": "Life Sciences",
                                    "EmpID": "973.00",
                                    "EmployeeCount": "1",
                                    "EmployeeNumber": "1368",
                                    "EnvironmentSatisfaction": "4",
                                    "Gender": "Female",
                                    "HourlyRate": "97",
                                    "JobInvolvement": "3",
                                    "JobLevel": "1",
                                    "JobRole": "Laboratory Technician",
                                    "JobSatisfaction": "4",
                                    "MaritalStatus": "Single",
                                    "MonthlyIncome": "1611",
                                    "MonthlyRate": "19305",
                                    "NumCompaniesWorked": "1",
                                    "Over18": "Y",
                                    "OverTime": "0",
                                    "PercentSalaryHike": "15",
                                    "PerformanceRating": "3",
                                    "RelationshipSatisfaction": "3",
                                    "SalarySlab": "Upto 5k",
                                    "StandardHours": "80",
                                    "StockOptionLevel": "0",
                                    "TotalWorkingYears": "0",
                                    "TrainingTimesLastYear": "5",
                                    "WorkLifeBalance": "4",
                                    "YearsAtCompany": "0",
                                    "YearsInCurrentRole": "0",
                                    "YearsSinceLastPromotion": "0",
                                    "YearsWithCurrManager": "0"
                                },
                                {
                                    "Age": "18",
                                    "AgeGroup": "18-25",
                                    "Attrition": "1",
                                    "BusinessTravel": "Travel_Frequently",
                                    "DailyRate": "544",
                                    "Department": "Sales",
                                    "DistanceFromHome": "3",
                                    "Education": "2",
                                    "EducationField": "Medical",
                                    "EmpID": "1154.00",
                                    "EmployeeCount": "1",
                                    "EmployeeNumber": "1624",
                                    "EnvironmentSatisfaction": "2",
                                    "Gender": "Female",
                                    "HourlyRate": "70",
                                    "JobInvolvement": "3",
                                    "JobLevel": "1",
                                    "JobRole": "Sales Representative",
                                    "JobSatisfaction": "4",
                                    "MaritalStatus": "Single",
                                    "MonthlyIncome": "1569",
                                    "MonthlyRate": "18420",
                                    "NumCompaniesWorked": "1",
                                    "Over18": "Y",
                                    "OverTime": "1",
                                    "PercentSalaryHike": "12",
                                    "PerformanceRating": "3",
                                    "RelationshipSatisfaction": "3",
                                    "SalarySlab": "Upto 5k",
                                    "StandardHours": "80",
                                    "StockOptionLevel": "0",
                                    "TotalWorkingYears": "0",
                                    "TrainingTimesLastYear": "2",
                                    "WorkLifeBalance": "4",
                                    "YearsAtCompany": "0",
                                    "YearsInCurrentRole": "0",
                                    "YearsSinceLastPromotion": "0",
                                    "YearsWithCurrManager": "0"
                                },
                                {
                                    "Age": "18",
                                    "AgeGroup": "18-25",
                                    "Attrition": "0",
                                    "BusinessTravel": "Non-Travel",
                                    "DailyRate": "1431",
                                    "Department": "Research & Development",
                                    "DistanceFromHome": "14",
                                    "Education": "3",
                                    "EducationField": "Medical",
                                    "EmpID": "1312.00",
                                    "EmployeeCount": "1",
                                    "EmployeeNumber": "1839",
                                    "EnvironmentSatisfaction": "2",
                                    "Gender": "Female",
                                    "HourlyRate": "33",
                                    "JobInvolvement": "3",
                                    "JobLevel": "1",
                                    "JobRole": "Research Scientist",
                                    "JobSatisfaction": "3",
                                    "MaritalStatus": "Single",
                                    "MonthlyIncome": "1514",
                                    "MonthlyRate": "8018",
                                    "NumCompaniesWorked": "1",
                                    "Over18": "Y",
                                    "OverTime": "0",
                                    "PercentSalaryHike": "16",
                                    "PerformanceRating": "3",
                                    "RelationshipSatisfaction": "3",
                                    "SalarySlab": "Upto 5k",
                                    "StandardHours": "80",
                                    "StockOptionLevel": "0",
                                    "TotalWorkingYears": "0",
                                    "TrainingTimesLastYear": "4",
                                    "WorkLifeBalance": "1",
                                    "YearsAtCompany": "0",
                                    "YearsInCurrentRole": "0",
                                    "YearsSinceLastPromotion": "0",
                                    "YearsWithCurrManager": "0"
                                },
                                {
                                    "Age": "19",
                                    "AgeGroup": "18-25",
                                    "Attrition": "1",
                                    "BusinessTravel": "Travel_Rarely",
                                    "DailyRate": "528",
                                    "Department": "Sales",
                                    "DistanceFromHome": "22",
                                    "Education": "1",
                                    "EducationField": "Marketing",
                                    "EmpID": "128.00",
                                    "EmployeeCount": "1",
                                    "EmployeeNumber": "167",
                                    "EnvironmentSatisfaction": "4",
                                    "Gender": "Male",
                                    "HourlyRate": "50",
                                    "JobInvolvement": "3",
                                    "JobLevel": "1",
                                    "JobRole": "Sales Representative",
                                    "JobSatisfaction": "3",
                                    "MaritalStatus": "Single",
                                    "MonthlyIncome": "1675",
                                    "MonthlyRate": "26820",
                                    "NumCompaniesWorked": "1",
                                    "Over18": "Y",
                                    "OverTime": "1",
                                    "PercentSalaryHike": "19",
                                    "PerformanceRating": "3",
                                    "RelationshipSatisfaction": "4",
                                    "SalarySlab": "Upto 5k",
                                    "StandardHours": "80",
                                    "StockOptionLevel": "0",
                                    "TotalWorkingYears": "0",
                                    "TrainingTimesLastYear": "2",
                                    "WorkLifeBalance": "2",
                                    "YearsAtCompany": "0",
                                    "YearsInCurrentRole": "0",
                                    "YearsSinceLastPromotion": "0",
                                    "YearsWithCurrManager": "0"
                                },
                                {
                                    "Age": "19",
                                    "AgeGroup": "18-25",
                                    "Attrition": "0",
                                    "BusinessTravel": "Travel_Rarely",
                                    "DailyRate": "1181",
                                    "Department": "Research & Development",
                                    "DistanceFromHome": "3",
                                    "Education": "1",
                                    "EducationField": "Medical",
                                    "EmpID": "150.00",
                                    "EmployeeCount": "1",
                                    "EmployeeNumber": "201",
                                    "EnvironmentSatisfaction": "2",
                                    "Gender": "Female",
                                    "HourlyRate": "79",
                                    "JobInvolvement": "3",
                                    "JobLevel": "1",
                                    "JobRole": "Laboratory Technician",
                                    "JobSatisfaction": "2",
                                    "MaritalStatus": "Single",
                                    "MonthlyIncome": "1483",
                                    "MonthlyRate": "16102",
                                    "NumCompaniesWorked": "1",
                                    "Over18": "Y",
                                    "OverTime": "0",
                                    "PercentSalaryHike": "14",
                                    "PerformanceRating": "3",
                                    "RelationshipSatisfaction": "4",
                                    "SalarySlab": "Upto 5k",
                                    "StandardHours": "80",
                                    "StockOptionLevel": "0",
                                    "TotalWorkingYears": "1",
                                    "TrainingTimesLastYear": "3",
                                    "WorkLifeBalance": "3",
                                    "YearsAtCompany": "1",
                                    "YearsInCurrentRole": "0",
                                    "YearsSinceLastPromotion": "0",
                                    "YearsWithCurrManager": "0"
                                }
                            ],
                            "schema": {
                                "fields": [
                                    {
                                        "name": "EmpID"
                                    },
                                    {
                                        "name": "Age"
                                    },
                                    {
                                        "name": "AgeGroup"
                                    },
                                    {
                                        "name": "Attrition"
                                    },
                                    {
                                        "name": "BusinessTravel"
                                    },
                                    {
                                        "name": "DailyRate"
                                    },
                                    {
                                        "name": "Department"
                                    },
                                    {
                                        "name": "DistanceFromHome"
                                    },
                                    {
                                        "name": "Education"
                                    },
                                    {
                                        "name": "EducationField"
                                    },
                                    {
                                        "name": "EmployeeCount"
                                    },
                                    {
                                        "name": "EmployeeNumber"
                                    },
                                    {
                                        "name": "EnvironmentSatisfaction"
                                    },
                                    {
                                        "name": "Gender"
                                    },
                                    {
                                        "name": "HourlyRate"
                                    },
                                    {
                                        "name": "JobInvolvement"
                                    },
                                    {
                                        "name": "JobLevel"
                                    },
                                    {
                                        "name": "JobRole"
                                    },
                                    {
                                        "name": "JobSatisfaction"
                                    },
                                    {
                                        "name": "MaritalStatus"
                                    },
                                    {
                                        "name": "MonthlyIncome"
                                    },
                                    {
                                        "name": "SalarySlab"
                                    },
                                    {
                                        "name": "MonthlyRate"
                                    },
                                    {
                                        "name": "NumCompaniesWorked"
                                    },
                                    {
                                        "name": "Over18"
                                    },
                                    {
                                        "name": "OverTime"
                                    },
                                    {
                                        "name": "PercentSalaryHike"
                                    },
                                    {
                                        "name": "PerformanceRating"
                                    },
                                    {
                                        "name": "RelationshipSatisfaction"
                                    },
                                    {
                                        "name": "StandardHours"
                                    },
                                    {
                                        "name": "StockOptionLevel"
                                    },
                                    {
                                        "name": "TotalWorkingYears"
                                    },
                                    {
                                        "name": "TrainingTimesLastYear"
                                    },
                                    {
                                        "name": "WorkLifeBalance"
                                    },
                                    {
                                        "name": "YearsAtCompany"
                                    },
                                    {
                                        "name": "YearsInCurrentRole"
                                    },
                                    {
                                        "name": "YearsSinceLastPromotion"
                                    },
                                    {
                                        "name": "YearsWithCurrManager"
                                    }
                                ]
                            }
                        },
                        "text/html": "<table><tr><th>EmpID</th><th>Age</th><th>AgeGroup</th><th>Attrition</th><th>BusinessTravel</th><th>DailyRate</th><th>Department</th><th>DistanceFromHome</th><th>Education</th><th>EducationField</th><th>EmployeeCount</th><th>EmployeeNumber</th><th>EnvironmentSatisfaction</th><th>Gender</th><th>HourlyRate</th><th>JobInvolvement</th><th>JobLevel</th><th>JobRole</th><th>JobSatisfaction</th><th>MaritalStatus</th><th>MonthlyIncome</th><th>SalarySlab</th><th>MonthlyRate</th><th>NumCompaniesWorked</th><th>Over18</th><th>OverTime</th><th>PercentSalaryHike</th><th>PerformanceRating</th><th>RelationshipSatisfaction</th><th>StandardHours</th><th>StockOptionLevel</th><th>TotalWorkingYears</th><th>TrainingTimesLastYear</th><th>WorkLifeBalance</th><th>YearsAtCompany</th><th>YearsInCurrentRole</th><th>YearsSinceLastPromotion</th><th>YearsWithCurrManager</th></tr><tr><td>297.00</td><td>18</td><td>18-25</td><td>1</td><td>Travel_Rarely</td><td>230</td><td>Research &amp; Development</td><td>3</td><td>3</td><td>Life Sciences</td><td>1</td><td>405</td><td>3</td><td>Male</td><td>54</td><td>3</td><td>1</td><td>Laboratory Technician</td><td>3</td><td>Single</td><td>1420</td><td>Upto 5k</td><td>25233</td><td>1</td><td>Y</td><td>0</td><td>13</td><td>3</td><td>3</td><td>80</td><td>0</td><td>0</td><td>2</td><td>3</td><td>0</td><td>0</td><td>0</td><td>0</td></tr><tr><td>302.00</td><td>18</td><td>18-25</td><td>0</td><td>Travel_Rarely</td><td>812</td><td>Sales</td><td>10</td><td>3</td><td>Medical</td><td>1</td><td>411</td><td>4</td><td>Female</td><td>69</td><td>2</td><td>1</td><td>Sales Representative</td><td>3</td><td>Single</td><td>1200</td><td>Upto 5k</td><td>9724</td><td>1</td><td>Y</td><td>0</td><td>12</td><td>3</td><td>1</td><td>80</td><td>0</td><td>0</td><td>2</td><td>3</td><td>0</td><td>0</td><td>0</td><td>0</td></tr><tr><td>458.00</td><td>18</td><td>18-25</td><td>1</td><td>Travel_Frequently</td><td>1306</td><td>Sales</td><td>5</td><td>3</td><td>Marketing</td><td>1</td><td>614</td><td>2</td><td>Male</td><td>69</td><td>3</td><td>1</td><td>Sales Representative</td><td>2</td><td>Single</td><td>1878</td><td>Upto 5k</td><td>8059</td><td>1</td><td>Y</td><td>1</td><td>14</td><td>3</td><td>4</td><td>80</td><td>0</td><td>0</td><td>3</td><td>3</td><td>0</td><td>0</td><td>0</td><td>0</td></tr><tr><td>728.00</td><td>18</td><td>18-25</td><td>0</td><td>Non-Travel</td><td>287</td><td>Research &amp; Development</td><td>5</td><td>2</td><td>Life Sciences</td><td>1</td><td>1012</td><td>2</td><td>Male</td><td>73</td><td>3</td><td>1</td><td>Research Scientist</td><td>4</td><td>Single</td><td>1051</td><td>Upto 5k</td><td>13493</td><td>1</td><td>Y</td><td>0</td><td>15</td><td>3</td><td>4</td><td>80</td><td>0</td><td>0</td><td>2</td><td>3</td><td>0</td><td>0</td><td>0</td><td>0</td></tr><tr><td>829.00</td><td>18</td><td>18-25</td><td>1</td><td>Non-Travel</td><td>247</td><td>Research &amp; Development</td><td>8</td><td>1</td><td>Medical</td><td>1</td><td>1156</td><td>3</td><td>Male</td><td>80</td><td>3</td><td>1</td><td>Laboratory Technician</td><td>3</td><td>Single</td><td>1904</td><td>Upto 5k</td><td>13556</td><td>1</td><td>Y</td><td>0</td><td>12</td><td>3</td><td>4</td><td>80</td><td>0</td><td>0</td><td>0</td><td>3</td><td>0</td><td>0</td><td>0</td><td>0</td></tr><tr><td>973.00</td><td>18</td><td>18-25</td><td>0</td><td>Non-Travel</td><td>1124</td><td>Research &amp; Development</td><td>1</td><td>3</td><td>Life Sciences</td><td>1</td><td>1368</td><td>4</td><td>Female</td><td>97</td><td>3</td><td>1</td><td>Laboratory Technician</td><td>4</td><td>Single</td><td>1611</td><td>Upto 5k</td><td>19305</td><td>1</td><td>Y</td><td>0</td><td>15</td><td>3</td><td>3</td><td>80</td><td>0</td><td>0</td><td>5</td><td>4</td><td>0</td><td>0</td><td>0</td><td>0</td></tr><tr><td>1154.00</td><td>18</td><td>18-25</td><td>1</td><td>Travel_Frequently</td><td>544</td><td>Sales</td><td>3</td><td>2</td><td>Medical</td><td>1</td><td>1624</td><td>2</td><td>Female</td><td>70</td><td>3</td><td>1</td><td>Sales Representative</td><td>4</td><td>Single</td><td>1569</td><td>Upto 5k</td><td>18420</td><td>1</td><td>Y</td><td>1</td><td>12</td><td>3</td><td>3</td><td>80</td><td>0</td><td>0</td><td>2</td><td>4</td><td>0</td><td>0</td><td>0</td><td>0</td></tr><tr><td>1312.00</td><td>18</td><td>18-25</td><td>0</td><td>Non-Travel</td><td>1431</td><td>Research &amp; Development</td><td>14</td><td>3</td><td>Medical</td><td>1</td><td>1839</td><td>2</td><td>Female</td><td>33</td><td>3</td><td>1</td><td>Research Scientist</td><td>3</td><td>Single</td><td>1514</td><td>Upto 5k</td><td>8018</td><td>1</td><td>Y</td><td>0</td><td>16</td><td>3</td><td>3</td><td>80</td><td>0</td><td>0</td><td>4</td><td>1</td><td>0</td><td>0</td><td>0</td><td>0</td></tr><tr><td>128.00</td><td>19</td><td>18-25</td><td>1</td><td>Travel_Rarely</td><td>528</td><td>Sales</td><td>22</td><td>1</td><td>Marketing</td><td>1</td><td>167</td><td>4</td><td>Male</td><td>50</td><td>3</td><td>1</td><td>Sales Representative</td><td>3</td><td>Single</td><td>1675</td><td>Upto 5k</td><td>26820</td><td>1</td><td>Y</td><td>1</td><td>19</td><td>3</td><td>4</td><td>80</td><td>0</td><td>0</td><td>2</td><td>2</td><td>0</td><td>0</td><td>0</td><td>0</td></tr><tr><td>150.00</td><td>19</td><td>18-25</td><td>0</td><td>Travel_Rarely</td><td>1181</td><td>Research &amp; Development</td><td>3</td><td>1</td><td>Medical</td><td>1</td><td>201</td><td>2</td><td>Female</td><td>79</td><td>3</td><td>1</td><td>Laboratory Technician</td><td>2</td><td>Single</td><td>1483</td><td>Upto 5k</td><td>16102</td><td>1</td><td>Y</td><td>0</td><td>14</td><td>3</td><td>4</td><td>80</td><td>0</td><td>1</td><td>3</td><td>3</td><td>1</td><td>0</td><td>0</td><td>0</td></tr></table>"
                    },
                    "metadata": {}
                }
            ],
            "execution_count": 2
        },
        {
            "cell_type": "code",
            "source": [
                "SELECT COUNT(*) as Count_rows \r\n",
                "FROM Employees"
            ],
            "metadata": {
                "language": "sql",
                "azdata_cell_guid": "242e421d-83dd-484f-8837-93afc88f0b03"
            },
            "outputs": [
                {
                    "output_type": "display_data",
                    "data": {
                        "text/html": "(1 row affected)"
                    },
                    "metadata": {}
                },
                {
                    "output_type": "display_data",
                    "data": {
                        "text/html": "Total execution time: 00:00:00.013"
                    },
                    "metadata": {}
                },
                {
                    "output_type": "execute_result",
                    "metadata": {},
                    "execution_count": 5,
                    "data": {
                        "application/vnd.dataresource+json": {
                            "schema": {
                                "fields": [
                                    {
                                        "name": "Count_rows"
                                    }
                                ]
                            },
                            "data": [
                                {
                                    "Count_rows": "1480"
                                }
                            ]
                        },
                        "text/html": [
                            "<table>",
                            "<tr><th>Count_rows</th></tr>",
                            "<tr><td>1480</td></tr>",
                            "</table>"
                        ]
                    }
                }
            ],
            "execution_count": 5
        },
        {
            "cell_type": "code",
            "source": [
                "SELECT EmpID, COUNT(*) AS count\r\n",
                "FROM Employees\r\n",
                "GROUP BY EmpID\r\n",
                "HAVING COUNT(*) > 1;"
            ],
            "metadata": {
                "language": "sql",
                "azdata_cell_guid": "bc7ecff9-9f92-4e89-a28a-85fb3f69333f"
            },
            "outputs": [
                {
                    "output_type": "display_data",
                    "data": {
                        "text/html": "(10 rows affected)"
                    },
                    "metadata": {}
                },
                {
                    "output_type": "display_data",
                    "data": {
                        "text/html": "Total execution time: 00:00:00.027"
                    },
                    "metadata": {}
                },
                {
                    "output_type": "execute_result",
                    "metadata": {},
                    "execution_count": 4,
                    "data": {
                        "application/vnd.dataresource+json": {
                            "schema": {
                                "fields": [
                                    {
                                        "name": "EmpID"
                                    },
                                    {
                                        "name": "count"
                                    }
                                ]
                            },
                            "data": [
                                {
                                    "EmpID": "1461.00",
                                    "count": "2"
                                },
                                {
                                    "EmpID": "1462.00",
                                    "count": "2"
                                },
                                {
                                    "EmpID": "1463.00",
                                    "count": "2"
                                },
                                {
                                    "EmpID": "1464.00",
                                    "count": "2"
                                },
                                {
                                    "EmpID": "1465.00",
                                    "count": "2"
                                },
                                {
                                    "EmpID": "1466.00",
                                    "count": "2"
                                },
                                {
                                    "EmpID": "1467.00",
                                    "count": "2"
                                },
                                {
                                    "EmpID": "1468.00",
                                    "count": "2"
                                },
                                {
                                    "EmpID": "1469.00",
                                    "count": "2"
                                },
                                {
                                    "EmpID": "1470.00",
                                    "count": "2"
                                }
                            ]
                        },
                        "text/html": [
                            "<table>",
                            "<tr><th>EmpID</th><th>count</th></tr>",
                            "<tr><td>1461.00</td><td>2</td></tr>",
                            "<tr><td>1462.00</td><td>2</td></tr>",
                            "<tr><td>1463.00</td><td>2</td></tr>",
                            "<tr><td>1464.00</td><td>2</td></tr>",
                            "<tr><td>1465.00</td><td>2</td></tr>",
                            "<tr><td>1466.00</td><td>2</td></tr>",
                            "<tr><td>1467.00</td><td>2</td></tr>",
                            "<tr><td>1468.00</td><td>2</td></tr>",
                            "<tr><td>1469.00</td><td>2</td></tr>",
                            "<tr><td>1470.00</td><td>2</td></tr>",
                            "</table>"
                        ]
                    }
                }
            ],
            "execution_count": 4
        },
        {
            "cell_type": "markdown",
            "source": [
                "Note: Total employees recorded in db is 1480-10 = 1470 employees"
            ],
            "metadata": {
                "language": "sql",
                "azdata_cell_guid": "29f98333-a50c-4ad4-a193-b3e562be5073"
            },
            "attachments": {}
        },
        {
            "cell_type": "code",
            "source": [
                "SELECT COUNT(*) AS count, Gender\r\n",
                "FROM (\r\n",
                "    SELECT DISTINCT EmpID, Gender\r\n",
                "    FROM Employees\r\n",
                ") AS UniqueEmployees\r\n",
                "GROUP BY Gender;\r\n",
                ""
            ],
            "metadata": {
                "azdata_cell_guid": "0712c9e3-4b1e-4515-b1f3-ce911c32119d",
                "language": "sql"
            },
            "outputs": [
                {
                    "output_type": "display_data",
                    "data": {
                        "text/html": "(2 rows affected)"
                    },
                    "metadata": {}
                },
                {
                    "output_type": "display_data",
                    "data": {
                        "text/html": "Total execution time: 00:00:00.910"
                    },
                    "metadata": {}
                },
                {
                    "output_type": "execute_result",
                    "metadata": {},
                    "execution_count": 6,
                    "data": {
                        "application/vnd.dataresource+json": {
                            "schema": {
                                "fields": [
                                    {
                                        "name": "count"
                                    },
                                    {
                                        "name": "Gender"
                                    }
                                ]
                            },
                            "data": [
                                {
                                    "count": "588",
                                    "Gender": "Female"
                                },
                                {
                                    "count": "882",
                                    "Gender": "Male"
                                }
                            ]
                        },
                        "text/html": [
                            "<table>",
                            "<tr><th>count</th><th>Gender</th></tr>",
                            "<tr><td>588</td><td>Female</td></tr>",
                            "<tr><td>882</td><td>Male</td></tr>",
                            "</table>"
                        ]
                    }
                }
            ],
            "execution_count": 6
        },
        {
            "cell_type": "markdown",
            "source": [
                " Show department and their role"
            ],
            "metadata": {
                "azdata_cell_guid": "21ce9fa6-1a94-49e1-8a0e-e34c4f56a71b",
                "language": "sql"
            },
            "attachments": {}
        },
        {
            "cell_type": "code",
            "source": [
                "SELECT Department, JobRole\r\n",
                "FROM Employees\r\n",
                "GROUP BY Department, JobRole\r\n",
                "ORDER BY Department;"
            ],
            "metadata": {
                "azdata_cell_guid": "38397b68-27ba-449f-b336-39deb1fbbb73",
                "language": "sql"
            },
            "outputs": [
                {
                    "output_type": "display_data",
                    "data": {
                        "text/html": "(11 rows affected)"
                    },
                    "metadata": {}
                },
                {
                    "output_type": "display_data",
                    "data": {
                        "text/html": "Total execution time: 00:00:13.516"
                    },
                    "metadata": {}
                },
                {
                    "output_type": "execute_result",
                    "execution_count": 7,
                    "data": {
                        "application/vnd.dataresource+json": {
                            "data": [
                                {
                                    "Department": "Human Resources",
                                    "JobRole": "Human Resources"
                                },
                                {
                                    "Department": "Human Resources",
                                    "JobRole": "Manager"
                                },
                                {
                                    "Department": "Research & Development",
                                    "JobRole": "Healthcare Representative"
                                },
                                {
                                    "Department": "Research & Development",
                                    "JobRole": "Laboratory Technician"
                                },
                                {
                                    "Department": "Research & Development",
                                    "JobRole": "Manager"
                                },
                                {
                                    "Department": "Research & Development",
                                    "JobRole": "Manufacturing Director"
                                },
                                {
                                    "Department": "Research & Development",
                                    "JobRole": "Research Director"
                                },
                                {
                                    "Department": "Research & Development",
                                    "JobRole": "Research Scientist"
                                },
                                {
                                    "Department": "Sales",
                                    "JobRole": "Manager"
                                },
                                {
                                    "Department": "Sales",
                                    "JobRole": "Sales Executive"
                                },
                                {
                                    "Department": "Sales",
                                    "JobRole": "Sales Representative"
                                }
                            ],
                            "schema": {
                                "fields": [
                                    {
                                        "name": "Department"
                                    },
                                    {
                                        "name": "JobRole"
                                    }
                                ]
                            }
                        },
                        "text/html": "<table><tr><th>Department</th><th>JobRole</th></tr><tr><td>Human Resources</td><td>Human Resources</td></tr><tr><td>Human Resources</td><td>Manager</td></tr><tr><td>Research &amp; Development</td><td>Healthcare Representative</td></tr><tr><td>Research &amp; Development</td><td>Laboratory Technician</td></tr><tr><td>Research &amp; Development</td><td>Manager</td></tr><tr><td>Research &amp; Development</td><td>Manufacturing Director</td></tr><tr><td>Research &amp; Development</td><td>Research Director</td></tr><tr><td>Research &amp; Development</td><td>Research Scientist</td></tr><tr><td>Sales</td><td>Manager</td></tr><tr><td>Sales</td><td>Sales Executive</td></tr><tr><td>Sales</td><td>Sales Representative</td></tr></table>"
                    },
                    "metadata": {}
                }
            ],
            "execution_count": 7
        },
        {
            "cell_type": "markdown",
            "source": [
                "Check some value of dataset"
            ],
            "metadata": {
                "azdata_cell_guid": "7a1f3a74-3e12-40b1-a4d3-4a97630dc3ef",
                "language": "sql"
            },
            "attachments": {}
        },
        {
            "cell_type": "code",
            "source": [
                "SELECT ROUND(AVG(Age),2) AS Avg_age, Department\n",
                "FROM (\n",
                "    SELECT DISTINCT EmpID, Age, Department\n",
                "    FROM Employees\n",
                ") AS UniqueEmployees\n",
                "GROUP BY Department"
            ],
            "metadata": {
                "azdata_cell_guid": "39445d6d-383e-44e1-aec6-3bc6be162284",
                "language": "sql",
                "tags": []
            },
            "outputs": [
                {
                    "output_type": "display_data",
                    "data": {
                        "text/html": "(3 rows affected)"
                    },
                    "metadata": {}
                },
                {
                    "output_type": "display_data",
                    "data": {
                        "text/html": "Total execution time: 00:00:01.591"
                    },
                    "metadata": {}
                },
                {
                    "output_type": "execute_result",
                    "metadata": {},
                    "execution_count": 8,
                    "data": {
                        "application/vnd.dataresource+json": {
                            "schema": {
                                "fields": [
                                    {
                                        "name": "Avg_age"
                                    },
                                    {
                                        "name": "Department"
                                    }
                                ]
                            },
                            "data": [
                                {
                                    "Avg_age": "37",
                                    "Department": "Human Resources"
                                },
                                {
                                    "Avg_age": "37",
                                    "Department": "Research & Development"
                                },
                                {
                                    "Avg_age": "36",
                                    "Department": "Sales"
                                }
                            ]
                        },
                        "text/html": [
                            "<table>",
                            "<tr><th>Avg_age</th><th>Department</th></tr>",
                            "<tr><td>37</td><td>Human Resources</td></tr>",
                            "<tr><td>37</td><td>Research &amp; Development</td></tr>",
                            "<tr><td>36</td><td>Sales</td></tr>",
                            "</table>"
                        ]
                    }
                }
            ],
            "execution_count": 8
        },
        {
            "cell_type": "code",
            "source": [
                "SELECT ROUND(AVG(Yearsatcompany), 2) AS AVG_years_at_company\r\n",
                "FROM (\r\n",
                "    SELECT DISTINCT EmpID, Yearsatcompany\r\n",
                "    FROM Employees\r\n",
                ") AS UniqueEmployees"
            ],
            "metadata": {
                "azdata_cell_guid": "8168bc6d-25dc-4793-b882-5c56bcb4e167",
                "language": "sql",
                "tags": []
            },
            "outputs": [
                {
                    "output_type": "display_data",
                    "data": {
                        "text/html": "(1 row affected)"
                    },
                    "metadata": {}
                },
                {
                    "output_type": "display_data",
                    "data": {
                        "text/html": "Total execution time: 00:00:00.019"
                    },
                    "metadata": {}
                },
                {
                    "output_type": "execute_result",
                    "metadata": {},
                    "execution_count": 9,
                    "data": {
                        "application/vnd.dataresource+json": {
                            "schema": {
                                "fields": [
                                    {
                                        "name": "AVG_years_at_company"
                                    }
                                ]
                            },
                            "data": [
                                {
                                    "AVG_years_at_company": "7"
                                }
                            ]
                        },
                        "text/html": [
                            "<table>",
                            "<tr><th>AVG_years_at_company</th></tr>",
                            "<tr><td>7</td></tr>",
                            "</table>"
                        ]
                    }
                }
            ],
            "execution_count": 9
        },
        {
            "cell_type": "code",
            "source": [
                "SELECT ROUND(AVG(MonthlyIncome),2) AS AverageMonthlyRate\r\n",
                "FROM (\r\n",
                "    SELECT DISTINCT EmpID, MonthlyIncome\r\n",
                "    FROM Employees\r\n",
                ") AS UniqueEmployees"
            ],
            "metadata": {
                "azdata_cell_guid": "f4ee128a-466b-4f2b-94ab-8de71fdb8626",
                "language": "sql"
            },
            "outputs": [
                {
                    "output_type": "display_data",
                    "data": {
                        "text/html": "(1 row affected)"
                    },
                    "metadata": {}
                },
                {
                    "output_type": "display_data",
                    "data": {
                        "text/html": "Total execution time: 00:00:00.019"
                    },
                    "metadata": {}
                },
                {
                    "output_type": "execute_result",
                    "metadata": {},
                    "execution_count": 10,
                    "data": {
                        "application/vnd.dataresource+json": {
                            "schema": {
                                "fields": [
                                    {
                                        "name": "AverageMonthlyRate"
                                    }
                                ]
                            },
                            "data": [
                                {
                                    "AverageMonthlyRate": "6502"
                                }
                            ]
                        },
                        "text/html": [
                            "<table>",
                            "<tr><th>AverageMonthlyRate</th></tr>",
                            "<tr><td>6502</td></tr>",
                            "</table>"
                        ]
                    }
                }
            ],
            "execution_count": 10
        },
        {
            "cell_type": "markdown",
            "source": [
                "Analyze attrition"
            ],
            "metadata": {
                "azdata_cell_guid": "3910157a-46b1-4dc0-8c45-f22fa2765fb7",
                "language": "sql"
            },
            "attachments": {}
        },
        {
            "cell_type": "code",
            "source": [
                "SELECT COUNT(EmpID) AS Total_Attrition\r\n",
                "FROM (\r\n",
                "    SELECT DISTINCT EmpID, Attrition\r\n",
                "    FROM Employees\r\n",
                ") AS UniqueEmployees\r\n",
                "WHERE Attrition = '1';"
            ],
            "metadata": {
                "azdata_cell_guid": "12c3dcbc-cadb-42cb-a45e-e97ac08acdbb",
                "language": "sql",
                "tags": []
            },
            "outputs": [
                {
                    "output_type": "display_data",
                    "data": {
                        "text/html": "(1 row affected)"
                    },
                    "metadata": {}
                },
                {
                    "output_type": "display_data",
                    "data": {
                        "text/html": "Total execution time: 00:00:00.836"
                    },
                    "metadata": {}
                },
                {
                    "output_type": "execute_result",
                    "metadata": {},
                    "execution_count": 14,
                    "data": {
                        "application/vnd.dataresource+json": {
                            "schema": {
                                "fields": [
                                    {
                                        "name": "Total_Attrition"
                                    }
                                ]
                            },
                            "data": [
                                {
                                    "Total_Attrition": "237"
                                }
                            ]
                        },
                        "text/html": [
                            "<table>",
                            "<tr><th>Total_Attrition</th></tr>",
                            "<tr><td>237</td></tr>",
                            "</table>"
                        ]
                    }
                }
            ],
            "execution_count": 14
        },
        {
            "cell_type": "markdown",
            "source": [
                "238/1470 about 16% employees was leave"
            ],
            "metadata": {
                "azdata_cell_guid": "4a6fc577-2146-4a97-987a-260cc0fc7574"
            },
            "attachments": {}
        },
        {
            "cell_type": "code",
            "source": [
                "SELECT COUNT(EmpID) As Num_Employees, AgeGroup, ROUND(AVG(MonthlyIncome),2) As Avg_Income \r\n",
                "FROM (\r\n",
                "    SELECT DISTINCT EmpID, AgeGroup, MonthlyIncome , Attrition\r\n",
                "    FROM Employees\r\n",
                ") AS UniqueEmployees\r\n",
                "WHERE Attrition = '1'\r\n",
                "GROUP BY AgeGroup"
            ],
            "metadata": {
                "azdata_cell_guid": "a5ccbc57-6bb1-4ce8-829c-bcc29505677a",
                "language": "sql"
            },
            "outputs": [
                {
                    "output_type": "display_data",
                    "data": {
                        "text/html": "(5 rows affected)"
                    },
                    "metadata": {}
                },
                {
                    "output_type": "display_data",
                    "data": {
                        "text/html": "Total execution time: 00:00:03.264"
                    },
                    "metadata": {}
                },
                {
                    "output_type": "execute_result",
                    "metadata": {},
                    "execution_count": 16,
                    "data": {
                        "application/vnd.dataresource+json": {
                            "schema": {
                                "fields": [
                                    {
                                        "name": "Num_Employees"
                                    },
                                    {
                                        "name": "AgeGroup"
                                    },
                                    {
                                        "name": "Avg_Income"
                                    }
                                ]
                            },
                            "data": [
                                {
                                    "Num_Employees": "44",
                                    "AgeGroup": "18-25",
                                    "Avg_Income": "2575"
                                },
                                {
                                    "Num_Employees": "116",
                                    "AgeGroup": "26-35",
                                    "Avg_Income": "4174"
                                },
                                {
                                    "Num_Employees": "43",
                                    "AgeGroup": "36-45",
                                    "Avg_Income": "6001"
                                },
                                {
                                    "Num_Employees": "26",
                                    "AgeGroup": "46-55",
                                    "Avg_Income": "8637"
                                },
                                {
                                    "Num_Employees": "8",
                                    "AgeGroup": "55+",
                                    "Avg_Income": "6789"
                                }
                            ]
                        },
                        "text/html": [
                            "<table>",
                            "<tr><th>Num_Employees</th><th>AgeGroup</th><th>Avg_Income</th></tr>",
                            "<tr><td>44</td><td>18-25</td><td>2575</td></tr>",
                            "<tr><td>116</td><td>26-35</td><td>4174</td></tr>",
                            "<tr><td>43</td><td>36-45</td><td>6001</td></tr>",
                            "<tr><td>26</td><td>46-55</td><td>8637</td></tr>",
                            "<tr><td>8</td><td>55+</td><td>6789</td></tr>",
                            "</table>"
                        ]
                    }
                }
            ],
            "execution_count": 16
        },
        {
            "cell_type": "markdown",
            "source": [
                "- The average salary of people who have left their jobs is generally lower than the median salary, so that could be one of the reasons.\n",
                "- A high percentage of 25-35 year olds indicates that the company's growth opportunities are in trouble."
            ],
            "metadata": {
                "azdata_cell_guid": "d94fb16c-d92f-4b73-b738-540f06357b31"
            }
        },
        {
            "cell_type": "code",
            "source": [
                "WITH MaxIncomePerAgeGroup AS (\r\n",
                "    SELECT AgeGroup, MAX(MonthlyIncome) AS MaxSalary\r\n",
                "    FROM (\r\n",
                "    SELECT DISTINCT EmpID, AgeGroup, MonthlyIncome, Attrition\r\n",
                "    FROM Employees\r\n",
                ") AS UniqueEmployees  \r\n",
                "    WHERE Attrition = '1'\r\n",
                "    GROUP BY AgeGroup\r\n",
                ")\r\n",
                "SELECT e.EmpID, e.AgeGroup, e.MonthlyIncome AS MaxSalary\r\n",
                "FROM (\r\n",
                "    SELECT DISTINCT EmpID, AgeGroup, MonthlyIncome, Attrition\r\n",
                "    FROM Employees\r\n",
                ") AS e\r\n",
                "JOIN MaxIncomePerAgeGroup m\r\n",
                "ON e.AgeGroup = m.AgeGroup AND e.MonthlyIncome = m.MaxSalary\r\n",
                "WHERE e.Attrition = '1';\r\n",
                ""
            ],
            "metadata": {
                "azdata_cell_guid": "bec67b23-fb54-483f-a4b6-5f8509c82e36",
                "language": "sql",
                "tags": []
            },
            "outputs": [
                {
                    "output_type": "display_data",
                    "data": {
                        "text/html": "(5 rows affected)"
                    },
                    "metadata": {}
                },
                {
                    "output_type": "display_data",
                    "data": {
                        "text/html": "Total execution time: 00:00:00.024"
                    },
                    "metadata": {}
                },
                {
                    "output_type": "execute_result",
                    "metadata": {},
                    "execution_count": 18,
                    "data": {
                        "application/vnd.dataresource+json": {
                            "schema": {
                                "fields": [
                                    {
                                        "name": "EmpID"
                                    },
                                    {
                                        "name": "AgeGroup"
                                    },
                                    {
                                        "name": "MaxSalary"
                                    }
                                ]
                            },
                            "data": [
                                {
                                    "EmpID": "596.00",
                                    "AgeGroup": "55+",
                                    "MaxSalary": "19246"
                                },
                                {
                                    "EmpID": "569.00",
                                    "AgeGroup": "46-55",
                                    "MaxSalary": "19859"
                                },
                                {
                                    "EmpID": "46.00",
                                    "AgeGroup": "36-45",
                                    "MaxSalary": "19545"
                                },
                                {
                                    "EmpID": "436.00",
                                    "AgeGroup": "26-35",
                                    "MaxSalary": "13610"
                                },
                                {
                                    "EmpID": "108.00",
                                    "AgeGroup": "18-25",
                                    "MaxSalary": "5744"
                                }
                            ]
                        },
                        "text/html": [
                            "<table>",
                            "<tr><th>EmpID</th><th>AgeGroup</th><th>MaxSalary</th></tr>",
                            "<tr><td>596.00</td><td>55+</td><td>19246</td></tr>",
                            "<tr><td>569.00</td><td>46-55</td><td>19859</td></tr>",
                            "<tr><td>46.00</td><td>36-45</td><td>19545</td></tr>",
                            "<tr><td>436.00</td><td>26-35</td><td>13610</td></tr>",
                            "<tr><td>108.00</td><td>18-25</td><td>5744</td></tr>",
                            "</table>"
                        ]
                    }
                }
            ],
            "execution_count": 18
        },
        {
            "cell_type": "code",
            "source": [
                "WITH MaxIncomePerAgeGroup AS (\r\n",
                "    SELECT AgeGroup, MIN(MonthlyIncome) AS MaxSalary\r\n",
                "    FROM (\r\n",
                "    SELECT DISTINCT EmpID, AgeGroup, MonthlyIncome, Attrition\r\n",
                "    FROM Employees\r\n",
                ") AS UniqueEmployees  \r\n",
                "    WHERE Attrition = '1'\r\n",
                "    GROUP BY AgeGroup\r\n",
                ")\r\n",
                "SELECT e.EmpID, e.AgeGroup, e.MonthlyIncome AS MaxSalary\r\n",
                "FROM (\r\n",
                "    SELECT DISTINCT EmpID, AgeGroup, MonthlyIncome, Attrition\r\n",
                "    FROM Employees\r\n",
                ") AS e\r\n",
                "JOIN MaxIncomePerAgeGroup m\r\n",
                "ON e.AgeGroup = m.AgeGroup AND e.MonthlyIncome = m.MaxSalary\r\n",
                "WHERE e.Attrition = '1';\r\n",
                ""
            ],
            "metadata": {
                "azdata_cell_guid": "bed40f3b-f165-4ac6-b0ad-6266a3979b0c",
                "language": "sql"
            },
            "outputs": [
                {
                    "output_type": "display_data",
                    "data": {
                        "text/html": "(5 rows affected)"
                    },
                    "metadata": {}
                },
                {
                    "output_type": "display_data",
                    "data": {
                        "text/html": "Total execution time: 00:00:00.020"
                    },
                    "metadata": {}
                },
                {
                    "output_type": "execute_result",
                    "metadata": {},
                    "execution_count": 19,
                    "data": {
                        "application/vnd.dataresource+json": {
                            "schema": {
                                "fields": [
                                    {
                                        "name": "EmpID"
                                    },
                                    {
                                        "name": "AgeGroup"
                                    },
                                    {
                                        "name": "MaxSalary"
                                    }
                                ]
                            },
                            "data": [
                                {
                                    "EmpID": "514.00",
                                    "AgeGroup": "18-25",
                                    "MaxSalary": "1009"
                                },
                                {
                                    "EmpID": "1339.00",
                                    "AgeGroup": "26-35",
                                    "MaxSalary": "1081"
                                },
                                {
                                    "EmpID": "1084.00",
                                    "AgeGroup": "36-45",
                                    "MaxSalary": "2018"
                                },
                                {
                                    "EmpID": "780.00",
                                    "AgeGroup": "46-55",
                                    "MaxSalary": "2461"
                                },
                                {
                                    "EmpID": "1445.00",
                                    "AgeGroup": "55+",
                                    "MaxSalary": "2339"
                                }
                            ]
                        },
                        "text/html": [
                            "<table>",
                            "<tr><th>EmpID</th><th>AgeGroup</th><th>MaxSalary</th></tr>",
                            "<tr><td>514.00</td><td>18-25</td><td>1009</td></tr>",
                            "<tr><td>1339.00</td><td>26-35</td><td>1081</td></tr>",
                            "<tr><td>1084.00</td><td>36-45</td><td>2018</td></tr>",
                            "<tr><td>780.00</td><td>46-55</td><td>2461</td></tr>",
                            "<tr><td>1445.00</td><td>55+</td><td>2339</td></tr>",
                            "</table>"
                        ]
                    }
                }
            ],
            "execution_count": 19
        },
        {
            "cell_type": "markdown",
            "source": [
                "Income with each role in department"
            ],
            "metadata": {
                "azdata_cell_guid": "cb14df83-0e25-47ba-9947-5c4710da1b25"
            }
        },
        {
            "cell_type": "code",
            "source": [
                "SELECT COUNT(EmpID) As Num_Employees, Department, JobRole, ROUND(AVG(MonthlyIncome),2) As Avg_Income \r\n",
                "FROM (\r\n",
                "    SELECT DISTINCT EmpID, Department, JobRole, MonthlyIncome, Attrition\r\n",
                "    FROM Employees\r\n",
                ") AS UniqueEmployees\r\n",
                "WHERE Attrition = '1'\r\n",
                "GROUP BY Department, JobRole\r\n",
                "ORDER BY Department, JobRole;"
            ],
            "metadata": {
                "azdata_cell_guid": "95a7fd65-d809-4530-9efb-b985261767f1",
                "language": "sql"
            },
            "outputs": [
                {
                    "output_type": "display_data",
                    "data": {
                        "text/html": "(10 rows affected)"
                    },
                    "metadata": {}
                },
                {
                    "output_type": "display_data",
                    "data": {
                        "text/html": "Total execution time: 00:00:00.013"
                    },
                    "metadata": {}
                },
                {
                    "output_type": "execute_result",
                    "metadata": {},
                    "execution_count": 20,
                    "data": {
                        "application/vnd.dataresource+json": {
                            "schema": {
                                "fields": [
                                    {
                                        "name": "Num_Employees"
                                    },
                                    {
                                        "name": "Department"
                                    },
                                    {
                                        "name": "JobRole"
                                    },
                                    {
                                        "name": "Avg_Income"
                                    }
                                ]
                            },
                            "data": [
                                {
                                    "Num_Employees": "12",
                                    "Department": "Human Resources",
                                    "JobRole": "Human Resources",
                                    "Avg_Income": "3715"
                                },
                                {
                                    "Num_Employees": "9",
                                    "Department": "Research & Development",
                                    "JobRole": "Healthcare Representative",
                                    "Avg_Income": "8548"
                                },
                                {
                                    "Num_Employees": "62",
                                    "Department": "Research & Development",
                                    "JobRole": "Laboratory Technician",
                                    "Avg_Income": "2919"
                                },
                                {
                                    "Num_Employees": "3",
                                    "Department": "Research & Development",
                                    "JobRole": "Manager",
                                    "Avg_Income": "15106"
                                },
                                {
                                    "Num_Employees": "10",
                                    "Department": "Research & Development",
                                    "JobRole": "Manufacturing Director",
                                    "Avg_Income": "7365"
                                },
                                {
                                    "Num_Employees": "2",
                                    "Department": "Research & Development",
                                    "JobRole": "Research Director",
                                    "Avg_Income": "19395"
                                },
                                {
                                    "Num_Employees": "47",
                                    "Department": "Research & Development",
                                    "JobRole": "Research Scientist",
                                    "Avg_Income": "2780"
                                },
                                {
                                    "Num_Employees": "2",
                                    "Department": "Sales",
                                    "JobRole": "Manager",
                                    "Avg_Income": "19334"
                                },
                                {
                                    "Num_Employees": "57",
                                    "Department": "Sales",
                                    "JobRole": "Sales Executive",
                                    "Avg_Income": "7489"
                                },
                                {
                                    "Num_Employees": "33",
                                    "Department": "Sales",
                                    "JobRole": "Sales Representative",
                                    "Avg_Income": "2364"
                                }
                            ]
                        },
                        "text/html": [
                            "<table>",
                            "<tr><th>Num_Employees</th><th>Department</th><th>JobRole</th><th>Avg_Income</th></tr>",
                            "<tr><td>12</td><td>Human Resources</td><td>Human Resources</td><td>3715</td></tr>",
                            "<tr><td>9</td><td>Research &amp; Development</td><td>Healthcare Representative</td><td>8548</td></tr>",
                            "<tr><td>62</td><td>Research &amp; Development</td><td>Laboratory Technician</td><td>2919</td></tr>",
                            "<tr><td>3</td><td>Research &amp; Development</td><td>Manager</td><td>15106</td></tr>",
                            "<tr><td>10</td><td>Research &amp; Development</td><td>Manufacturing Director</td><td>7365</td></tr>",
                            "<tr><td>2</td><td>Research &amp; Development</td><td>Research Director</td><td>19395</td></tr>",
                            "<tr><td>47</td><td>Research &amp; Development</td><td>Research Scientist</td><td>2780</td></tr>",
                            "<tr><td>2</td><td>Sales</td><td>Manager</td><td>19334</td></tr>",
                            "<tr><td>57</td><td>Sales</td><td>Sales Executive</td><td>7489</td></tr>",
                            "<tr><td>33</td><td>Sales</td><td>Sales Representative</td><td>2364</td></tr>",
                            "</table>"
                        ]
                    }
                }
            ],
            "execution_count": 20
        },
        {
            "cell_type": "markdown",
            "source": [
                "Overtime status"
            ],
            "metadata": {
                "azdata_cell_guid": "996a52a2-2db8-4da2-90a4-49689a663dd2",
                "language": "sql"
            },
            "attachments": {}
        },
        {
            "cell_type": "code",
            "source": [
                "SELECT Department, JobRole, ROUND(COUNT(CASE WHEN OverTime = '1' THEN 1 END) * 100.0 / COUNT(*),2) AS PercentOverTime\r\n",
                "FROM (\r\n",
                "    SELECT DISTINCT EmpID, Department, JobRole, OverTime\r\n",
                "    FROM Employees\r\n",
                ") AS UniqueEmployees\r\n",
                "GROUP BY Department,JobRole\r\n",
                "ORDER BY Department,JobRole;\r\n",
                ""
            ],
            "metadata": {
                "azdata_cell_guid": "5d704a18-301e-4b4e-bfc9-0f0e35b6f034",
                "language": "sql"
            },
            "outputs": [
                {
                    "output_type": "display_data",
                    "data": {
                        "text/html": "Warning: Null value is eliminated by an aggregate or other SET operation."
                    },
                    "metadata": {}
                },
                {
                    "output_type": "display_data",
                    "data": {
                        "text/html": "(11 rows affected)"
                    },
                    "metadata": {}
                },
                {
                    "output_type": "display_data",
                    "data": {
                        "text/html": "Total execution time: 00:00:01.540"
                    },
                    "metadata": {}
                },
                {
                    "output_type": "execute_result",
                    "metadata": {},
                    "execution_count": 21,
                    "data": {
                        "application/vnd.dataresource+json": {
                            "schema": {
                                "fields": [
                                    {
                                        "name": "Department"
                                    },
                                    {
                                        "name": "JobRole"
                                    },
                                    {
                                        "name": "PercentOverTime"
                                    }
                                ]
                            },
                            "data": [
                                {
                                    "Department": "Human Resources",
                                    "JobRole": "Human Resources",
                                    "PercentOverTime": "25.000000000000"
                                },
                                {
                                    "Department": "Human Resources",
                                    "JobRole": "Manager",
                                    "PercentOverTime": "36.360000000000"
                                },
                                {
                                    "Department": "Research & Development",
                                    "JobRole": "Healthcare Representative",
                                    "PercentOverTime": "28.240000000000"
                                },
                                {
                                    "Department": "Research & Development",
                                    "JobRole": "Laboratory Technician",
                                    "PercentOverTime": "23.940000000000"
                                },
                                {
                                    "Department": "Research & Development",
                                    "JobRole": "Manager",
                                    "PercentOverTime": "24.070000000000"
                                },
                                {
                                    "Department": "Research & Development",
                                    "JobRole": "Manufacturing Director",
                                    "PercentOverTime": "26.900000000000"
                                },
                                {
                                    "Department": "Research & Development",
                                    "JobRole": "Research Director",
                                    "PercentOverTime": "28.750000000000"
                                },
                                {
                                    "Department": "Research & Development",
                                    "JobRole": "Research Scientist",
                                    "PercentOverTime": "33.220000000000"
                                },
                                {
                                    "Department": "Sales",
                                    "JobRole": "Manager",
                                    "PercentOverTime": "27.030000000000"
                                },
                                {
                                    "Department": "Sales",
                                    "JobRole": "Sales Executive",
                                    "PercentOverTime": "28.830000000000"
                                },
                                {
                                    "Department": "Sales",
                                    "JobRole": "Sales Representative",
                                    "PercentOverTime": "28.920000000000"
                                }
                            ]
                        },
                        "text/html": [
                            "<table>",
                            "<tr><th>Department</th><th>JobRole</th><th>PercentOverTime</th></tr>",
                            "<tr><td>Human Resources</td><td>Human Resources</td><td>25.000000000000</td></tr>",
                            "<tr><td>Human Resources</td><td>Manager</td><td>36.360000000000</td></tr>",
                            "<tr><td>Research &amp; Development</td><td>Healthcare Representative</td><td>28.240000000000</td></tr>",
                            "<tr><td>Research &amp; Development</td><td>Laboratory Technician</td><td>23.940000000000</td></tr>",
                            "<tr><td>Research &amp; Development</td><td>Manager</td><td>24.070000000000</td></tr>",
                            "<tr><td>Research &amp; Development</td><td>Manufacturing Director</td><td>26.900000000000</td></tr>",
                            "<tr><td>Research &amp; Development</td><td>Research Director</td><td>28.750000000000</td></tr>",
                            "<tr><td>Research &amp; Development</td><td>Research Scientist</td><td>33.220000000000</td></tr>",
                            "<tr><td>Sales</td><td>Manager</td><td>27.030000000000</td></tr>",
                            "<tr><td>Sales</td><td>Sales Executive</td><td>28.830000000000</td></tr>",
                            "<tr><td>Sales</td><td>Sales Representative</td><td>28.920000000000</td></tr>",
                            "</table>"
                        ]
                    }
                }
            ],
            "execution_count": 21
        },
        {
            "cell_type": "code",
            "source": [
                "SELECT Department, Gender, AVG(WorkLifeBalance) AS AvgWorkLifeBalance\r\n",
                "FROM (\r\n",
                "    SELECT DISTINCT EmpID, Gender, Department, WorkLifeBalance\r\n",
                "    FROM Employees\r\n",
                ") AS UniqueEmployees\r\n",
                "GROUP BY Department, Gender\r\n",
                "ORDER BY Department, Gender;\r\n",
                "\r\n",
                ""
            ],
            "metadata": {
                "azdata_cell_guid": "7f5ad94a-ee15-48f4-9943-9cf2821a5cdf",
                "language": "sql"
            },
            "outputs": [
                {
                    "output_type": "display_data",
                    "data": {
                        "text/html": "(6 rows affected)"
                    },
                    "metadata": {}
                },
                {
                    "output_type": "display_data",
                    "data": {
                        "text/html": "Total execution time: 00:00:00.503"
                    },
                    "metadata": {}
                },
                {
                    "output_type": "execute_result",
                    "metadata": {},
                    "execution_count": 24,
                    "data": {
                        "application/vnd.dataresource+json": {
                            "schema": {
                                "fields": [
                                    {
                                        "name": "Department"
                                    },
                                    {
                                        "name": "Gender"
                                    },
                                    {
                                        "name": "AvgWorkLifeBalance"
                                    }
                                ]
                            },
                            "data": [
                                {
                                    "Department": "Human Resources",
                                    "Gender": "Female",
                                    "AvgWorkLifeBalance": "2"
                                },
                                {
                                    "Department": "Human Resources",
                                    "Gender": "Male",
                                    "AvgWorkLifeBalance": "2"
                                },
                                {
                                    "Department": "Research & Development",
                                    "Gender": "Female",
                                    "AvgWorkLifeBalance": "2"
                                },
                                {
                                    "Department": "Research & Development",
                                    "Gender": "Male",
                                    "AvgWorkLifeBalance": "2"
                                },
                                {
                                    "Department": "Sales",
                                    "Gender": "Female",
                                    "AvgWorkLifeBalance": "2"
                                },
                                {
                                    "Department": "Sales",
                                    "Gender": "Male",
                                    "AvgWorkLifeBalance": "2"
                                }
                            ]
                        },
                        "text/html": [
                            "<table>",
                            "<tr><th>Department</th><th>Gender</th><th>AvgWorkLifeBalance</th></tr>",
                            "<tr><td>Human Resources</td><td>Female</td><td>2</td></tr>",
                            "<tr><td>Human Resources</td><td>Male</td><td>2</td></tr>",
                            "<tr><td>Research &amp; Development</td><td>Female</td><td>2</td></tr>",
                            "<tr><td>Research &amp; Development</td><td>Male</td><td>2</td></tr>",
                            "<tr><td>Sales</td><td>Female</td><td>2</td></tr>",
                            "<tr><td>Sales</td><td>Male</td><td>2</td></tr>",
                            "</table>"
                        ]
                    }
                }
            ],
            "execution_count": 24
        },
        {
            "cell_type": "markdown",
            "source": [
                "Both Man or woman have a problem for balance their life and work. We need to talk with their manager and ask them something to solve this problem"
            ],
            "metadata": {
                "azdata_cell_guid": "9c196ce2-bb41-4556-a864-babbf3b618cd"
            }
        },
        {
            "cell_type": "markdown",
            "source": [
                "Job Satisfaction status"
            ],
            "metadata": {
                "azdata_cell_guid": "e1dc58b4-dcbe-4876-b362-1e804b52f041"
            }
        },
        {
            "cell_type": "code",
            "source": [
                "SELECT e1.Department,\r\n",
                "       e1.AvgMonthlyIncome,\r\n",
                "       e2.AvgJobSatisfaction\r\n",
                "FROM (\r\n",
                "    SELECT Department, AVG(MonthlyIncome) AS AvgMonthlyIncome\r\n",
                "    FROM (\r\n",
                "    SELECT DISTINCT EmpID, Department, MonthlyIncome\r\n",
                "    FROM Employees\r\n",
                ") AS UniqueEmployees\r\n",
                "    GROUP BY Department\r\n",
                ") AS e1\r\n",
                "JOIN (\r\n",
                "    SELECT Department, AVG(JobSatisfaction) AS AvgJobSatisfaction\r\n",
                "    FROM (\r\n",
                "    SELECT DISTINCT EmpID, Department, JobSatisfaction\r\n",
                "    FROM Employees\r\n",
                ") AS UniqueEmployees\r\n",
                "    GROUP BY Department\r\n",
                ") AS e2 ON e1.Department = e2.Department\r\n",
                "ORDER BY e1.AvgMonthlyIncome DESC;\r\n",
                ""
            ],
            "metadata": {
                "azdata_cell_guid": "6c96de76-0c1b-423d-b458-153a41f95bc1",
                "language": "sql"
            },
            "outputs": [
                {
                    "output_type": "display_data",
                    "data": {
                        "text/html": "(3 rows affected)"
                    },
                    "metadata": {}
                },
                {
                    "output_type": "display_data",
                    "data": {
                        "text/html": "Total execution time: 00:00:00.741"
                    },
                    "metadata": {}
                },
                {
                    "output_type": "execute_result",
                    "metadata": {},
                    "execution_count": 25,
                    "data": {
                        "application/vnd.dataresource+json": {
                            "schema": {
                                "fields": [
                                    {
                                        "name": "Department"
                                    },
                                    {
                                        "name": "AvgMonthlyIncome"
                                    },
                                    {
                                        "name": "AvgJobSatisfaction"
                                    }
                                ]
                            },
                            "data": [
                                {
                                    "Department": "Sales",
                                    "AvgMonthlyIncome": "6959",
                                    "AvgJobSatisfaction": "2"
                                },
                                {
                                    "Department": "Human Resources",
                                    "AvgMonthlyIncome": "6654",
                                    "AvgJobSatisfaction": "2"
                                },
                                {
                                    "Department": "Research & Development",
                                    "AvgMonthlyIncome": "6281",
                                    "AvgJobSatisfaction": "2"
                                }
                            ]
                        },
                        "text/html": [
                            "<table>",
                            "<tr><th>Department</th><th>AvgMonthlyIncome</th><th>AvgJobSatisfaction</th></tr>",
                            "<tr><td>Sales</td><td>6959</td><td>2</td></tr>",
                            "<tr><td>Human Resources</td><td>6654</td><td>2</td></tr>",
                            "<tr><td>Research &amp; Development</td><td>6281</td><td>2</td></tr>",
                            "</table>"
                        ]
                    }
                }
            ],
            "execution_count": 25
        },
        {
            "cell_type": "code",
            "source": [
                "SELECT e1.JobRole,\r\n",
                "       e1.AvgMonthlyIncome,\r\n",
                "       e2.AvgJobSatisfaction\r\n",
                "FROM (\r\n",
                "    SELECT JobRole, AVG(MonthlyIncome) AS AvgMonthlyIncome\r\n",
                "    FROM (\r\n",
                "    SELECT DISTINCT EmpID, JobRole, MonthlyIncome\r\n",
                "    FROM Employees\r\n",
                ") AS UniqueEmployees\r\n",
                "    GROUP BY JobRole\r\n",
                ") AS e1\r\n",
                "JOIN (\r\n",
                "    SELECT JobRole, AVG(JobSatisfaction) AS AvgJobSatisfaction\r\n",
                "    FROM (\r\n",
                "    SELECT DISTINCT EmpID, JobRole, JobSatisfaction\r\n",
                "    FROM Employees\r\n",
                ") AS UniqueEmployees\r\n",
                "    GROUP BY JobRole\r\n",
                ") AS e2 ON e1.JobRole = e2.JobRole\r\n",
                "ORDER BY e1.AvgMonthlyIncome DESC;\r\n",
                ""
            ],
            "metadata": {
                "azdata_cell_guid": "6660bc1c-9d3f-4bae-9ab7-2398122aeb3f",
                "language": "sql"
            },
            "outputs": [
                {
                    "output_type": "display_data",
                    "data": {
                        "text/html": "(9 rows affected)"
                    },
                    "metadata": {}
                },
                {
                    "output_type": "display_data",
                    "data": {
                        "text/html": "Total execution time: 00:00:00.022"
                    },
                    "metadata": {}
                },
                {
                    "output_type": "execute_result",
                    "metadata": {},
                    "execution_count": 26,
                    "data": {
                        "application/vnd.dataresource+json": {
                            "schema": {
                                "fields": [
                                    {
                                        "name": "JobRole"
                                    },
                                    {
                                        "name": "AvgMonthlyIncome"
                                    },
                                    {
                                        "name": "AvgJobSatisfaction"
                                    }
                                ]
                            },
                            "data": [
                                {
                                    "JobRole": "Manager",
                                    "AvgMonthlyIncome": "17181",
                                    "AvgJobSatisfaction": "2"
                                },
                                {
                                    "JobRole": "Research Director",
                                    "AvgMonthlyIncome": "16033",
                                    "AvgJobSatisfaction": "2"
                                },
                                {
                                    "JobRole": "Healthcare Representative",
                                    "AvgMonthlyIncome": "7528",
                                    "AvgJobSatisfaction": "2"
                                },
                                {
                                    "JobRole": "Manufacturing Director",
                                    "AvgMonthlyIncome": "7295",
                                    "AvgJobSatisfaction": "2"
                                },
                                {
                                    "JobRole": "Sales Executive",
                                    "AvgMonthlyIncome": "6924",
                                    "AvgJobSatisfaction": "2"
                                },
                                {
                                    "JobRole": "Human Resources",
                                    "AvgMonthlyIncome": "4235",
                                    "AvgJobSatisfaction": "2"
                                },
                                {
                                    "JobRole": "Research Scientist",
                                    "AvgMonthlyIncome": "3239",
                                    "AvgJobSatisfaction": "2"
                                },
                                {
                                    "JobRole": "Laboratory Technician",
                                    "AvgMonthlyIncome": "3237",
                                    "AvgJobSatisfaction": "2"
                                },
                                {
                                    "JobRole": "Sales Representative",
                                    "AvgMonthlyIncome": "2626",
                                    "AvgJobSatisfaction": "2"
                                }
                            ]
                        },
                        "text/html": [
                            "<table>",
                            "<tr><th>JobRole</th><th>AvgMonthlyIncome</th><th>AvgJobSatisfaction</th></tr>",
                            "<tr><td>Manager</td><td>17181</td><td>2</td></tr>",
                            "<tr><td>Research Director</td><td>16033</td><td>2</td></tr>",
                            "<tr><td>Healthcare Representative</td><td>7528</td><td>2</td></tr>",
                            "<tr><td>Manufacturing Director</td><td>7295</td><td>2</td></tr>",
                            "<tr><td>Sales Executive</td><td>6924</td><td>2</td></tr>",
                            "<tr><td>Human Resources</td><td>4235</td><td>2</td></tr>",
                            "<tr><td>Research Scientist</td><td>3239</td><td>2</td></tr>",
                            "<tr><td>Laboratory Technician</td><td>3237</td><td>2</td></tr>",
                            "<tr><td>Sales Representative</td><td>2626</td><td>2</td></tr>",
                            "</table>"
                        ]
                    }
                }
            ],
            "execution_count": 26
        },
        {
            "cell_type": "code",
            "source": [
                "SELECT e.JobRole,\r\n",
                "       e.AvgJobSatisfaction,\r\n",
                "       o.OverTimeRate,\r\n",
                "       e.AvgWorkLifeBalance\r\n",
                "FROM (\r\n",
                "    SELECT JobRole, AVG(JobSatisfaction) AS AvgJobSatisfaction, AVG(WorkLifeBalance) AS AvgWorkLifeBalance\r\n",
                "    FROM (\r\n",
                "    SELECT DISTINCT EmpID, JobRole, JobSatisfaction, WorkLifeBalance\r\n",
                "    FROM Employees\r\n",
                ") AS UniqueEmployees\r\n",
                "    GROUP BY JobRole\r\n",
                ") AS e\r\n",
                "JOIN (\r\n",
                "    SELECT JobRole, SUM(CASE WHEN OverTime = '1' THEN 1 ELSE 0 END) * 100.0 / COUNT(*) AS OverTimeRate\r\n",
                "    FROM (\r\n",
                "    SELECT DISTINCT EmpID, JobRole, OverTime\r\n",
                "    FROM Employees\r\n",
                ") AS UniqueEmployees\r\n",
                "    GROUP BY JobRole\r\n",
                ") AS o ON e.JobRole = o.JobRole\r\n",
                "ORDER BY e.AvgJobSatisfaction DESC, o.OverTimeRate DESC;\r\n",
                ""
            ],
            "metadata": {
                "azdata_cell_guid": "8c1f83b4-5d10-4c0c-b68f-f3d074985d0b",
                "language": "sql"
            },
            "outputs": [
                {
                    "output_type": "display_data",
                    "data": {
                        "text/html": "(9 rows affected)"
                    },
                    "metadata": {}
                },
                {
                    "output_type": "display_data",
                    "data": {
                        "text/html": "Total execution time: 00:00:00.028"
                    },
                    "metadata": {}
                },
                {
                    "output_type": "execute_result",
                    "metadata": {},
                    "execution_count": 27,
                    "data": {
                        "application/vnd.dataresource+json": {
                            "schema": {
                                "fields": [
                                    {
                                        "name": "JobRole"
                                    },
                                    {
                                        "name": "AvgJobSatisfaction"
                                    },
                                    {
                                        "name": "OverTimeRate"
                                    },
                                    {
                                        "name": "AvgWorkLifeBalance"
                                    }
                                ]
                            },
                            "data": [
                                {
                                    "JobRole": "Research Scientist",
                                    "AvgJobSatisfaction": "2",
                                    "OverTimeRate": "33.219178082191",
                                    "AvgWorkLifeBalance": "2"
                                },
                                {
                                    "JobRole": "Sales Representative",
                                    "AvgJobSatisfaction": "2",
                                    "OverTimeRate": "28.915662650602",
                                    "AvgWorkLifeBalance": "2"
                                },
                                {
                                    "JobRole": "Sales Executive",
                                    "AvgJobSatisfaction": "2",
                                    "OverTimeRate": "28.834355828220",
                                    "AvgWorkLifeBalance": "2"
                                },
                                {
                                    "JobRole": "Research Director",
                                    "AvgJobSatisfaction": "2",
                                    "OverTimeRate": "28.750000000000",
                                    "AvgWorkLifeBalance": "2"
                                },
                                {
                                    "JobRole": "Healthcare Representative",
                                    "AvgJobSatisfaction": "2",
                                    "OverTimeRate": "28.244274809160",
                                    "AvgWorkLifeBalance": "2"
                                },
                                {
                                    "JobRole": "Manufacturing Director",
                                    "AvgJobSatisfaction": "2",
                                    "OverTimeRate": "26.896551724137",
                                    "AvgWorkLifeBalance": "2"
                                },
                                {
                                    "JobRole": "Manager",
                                    "AvgJobSatisfaction": "2",
                                    "OverTimeRate": "26.470588235294",
                                    "AvgWorkLifeBalance": "2"
                                },
                                {
                                    "JobRole": "Human Resources",
                                    "AvgJobSatisfaction": "2",
                                    "OverTimeRate": "25.000000000000",
                                    "AvgWorkLifeBalance": "2"
                                },
                                {
                                    "JobRole": "Laboratory Technician",
                                    "AvgJobSatisfaction": "2",
                                    "OverTimeRate": "23.938223938223",
                                    "AvgWorkLifeBalance": "2"
                                }
                            ]
                        },
                        "text/html": [
                            "<table>",
                            "<tr><th>JobRole</th><th>AvgJobSatisfaction</th><th>OverTimeRate</th><th>AvgWorkLifeBalance</th></tr>",
                            "<tr><td>Research Scientist</td><td>2</td><td>33.219178082191</td><td>2</td></tr>",
                            "<tr><td>Sales Representative</td><td>2</td><td>28.915662650602</td><td>2</td></tr>",
                            "<tr><td>Sales Executive</td><td>2</td><td>28.834355828220</td><td>2</td></tr>",
                            "<tr><td>Research Director</td><td>2</td><td>28.750000000000</td><td>2</td></tr>",
                            "<tr><td>Healthcare Representative</td><td>2</td><td>28.244274809160</td><td>2</td></tr>",
                            "<tr><td>Manufacturing Director</td><td>2</td><td>26.896551724137</td><td>2</td></tr>",
                            "<tr><td>Manager</td><td>2</td><td>26.470588235294</td><td>2</td></tr>",
                            "<tr><td>Human Resources</td><td>2</td><td>25.000000000000</td><td>2</td></tr>",
                            "<tr><td>Laboratory Technician</td><td>2</td><td>23.938223938223</td><td>2</td></tr>",
                            "</table>"
                        ]
                    }
                }
            ],
            "execution_count": 27
        },
        {
            "cell_type": "markdown",
            "source": [
                "We can see the correlation between the numbers above, overtime rate also highly affects employee evaluations."
            ],
            "metadata": {
                "azdata_cell_guid": "07f998bd-2e5c-4e5a-9d6b-8f1ae16c4aa8"
            }
        }
    ]
}